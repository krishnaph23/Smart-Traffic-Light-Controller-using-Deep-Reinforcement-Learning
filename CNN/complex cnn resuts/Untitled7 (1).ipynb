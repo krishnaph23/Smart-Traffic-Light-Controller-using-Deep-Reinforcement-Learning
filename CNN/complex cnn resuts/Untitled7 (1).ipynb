{
  "nbformat": 4,
  "nbformat_minor": 0,
  "metadata": {
    "colab": {
      "name": "Untitled7.ipynb",
      "provenance": []
    },
    "kernelspec": {
      "name": "python3",
      "display_name": "Python 3"
    },
    "language_info": {
      "name": "python"
    }
  },
  "cells": [
    {
      "cell_type": "code",
      "metadata": {
        "id": "ivjpbuXhqC7w"
      },
      "source": [
        ""
      ],
      "execution_count": null,
      "outputs": []
    },
    {
      "cell_type": "code",
      "metadata": {
        "colab": {
          "base_uri": "https://localhost:8080/"
        },
        "id": "x4U7_YR9pdmB",
        "outputId": "d8ca3f29-1279-4a43-9094-9b5b4fa3722b"
      },
      "source": [
        "\n",
        "!rm -r *\n",
        "!add-apt-repository ppa:sumo/stable -y\n",
        "!apt-get update -y\n",
        "!apt-get install sumo sumo-tools sumo-doc\n",
        "!pip install traci\n",
        "import os\n",
        "os.environ['SUMO_HOME'] = \"/usr/share/sumo/\"\n"
      ],
      "execution_count": 7,
      "outputs": [
        {
          "output_type": "stream",
          "name": "stdout",
          "text": [
            "rm: cannot remove '*': No such file or directory\n",
            "Hit:1 http://security.ubuntu.com/ubuntu bionic-security InRelease\n",
            "Hit:2 https://cloud.r-project.org/bin/linux/ubuntu bionic-cran40/ InRelease\n",
            "Ign:3 https://developer.download.nvidia.com/compute/cuda/repos/ubuntu1804/x86_64  InRelease\n",
            "Hit:4 http://ppa.launchpad.net/c2d4u.team/c2d4u4.0+/ubuntu bionic InRelease\n",
            "Ign:5 https://developer.download.nvidia.com/compute/machine-learning/repos/ubuntu1804/x86_64  InRelease\n",
            "Hit:6 http://archive.ubuntu.com/ubuntu bionic InRelease\n",
            "Hit:7 https://developer.download.nvidia.com/compute/cuda/repos/ubuntu1804/x86_64  Release\n",
            "Hit:8 https://developer.download.nvidia.com/compute/machine-learning/repos/ubuntu1804/x86_64  Release\n",
            "Hit:9 http://archive.ubuntu.com/ubuntu bionic-updates InRelease\n",
            "Hit:10 http://ppa.launchpad.net/cran/libgit2/ubuntu bionic InRelease\n",
            "Hit:11 http://archive.ubuntu.com/ubuntu bionic-backports InRelease\n",
            "Hit:12 http://ppa.launchpad.net/deadsnakes/ppa/ubuntu bionic InRelease\n",
            "Hit:13 http://ppa.launchpad.net/graphics-drivers/ppa/ubuntu bionic InRelease\n",
            "Hit:14 http://ppa.launchpad.net/sumo/stable/ubuntu bionic InRelease\n",
            "Reading package lists... Done\n",
            "Hit:1 http://security.ubuntu.com/ubuntu bionic-security InRelease\n",
            "Hit:2 https://cloud.r-project.org/bin/linux/ubuntu bionic-cran40/ InRelease\n",
            "Ign:3 https://developer.download.nvidia.com/compute/cuda/repos/ubuntu1804/x86_64  InRelease\n",
            "Ign:4 https://developer.download.nvidia.com/compute/machine-learning/repos/ubuntu1804/x86_64  InRelease\n",
            "Hit:5 http://archive.ubuntu.com/ubuntu bionic InRelease\n",
            "Hit:6 https://developer.download.nvidia.com/compute/cuda/repos/ubuntu1804/x86_64  Release\n",
            "Hit:7 https://developer.download.nvidia.com/compute/machine-learning/repos/ubuntu1804/x86_64  Release\n",
            "Hit:8 http://ppa.launchpad.net/c2d4u.team/c2d4u4.0+/ubuntu bionic InRelease\n",
            "Hit:9 http://archive.ubuntu.com/ubuntu bionic-updates InRelease\n",
            "Hit:10 http://ppa.launchpad.net/cran/libgit2/ubuntu bionic InRelease\n",
            "Hit:11 http://archive.ubuntu.com/ubuntu bionic-backports InRelease\n",
            "Hit:12 http://ppa.launchpad.net/deadsnakes/ppa/ubuntu bionic InRelease\n",
            "Hit:13 http://ppa.launchpad.net/graphics-drivers/ppa/ubuntu bionic InRelease\n",
            "Hit:15 http://ppa.launchpad.net/sumo/stable/ubuntu bionic InRelease\n",
            "Reading package lists... Done\n",
            "Reading package lists... Done\n",
            "Building dependency tree       \n",
            "Reading state information... Done\n",
            "sumo is already the newest version (1.10.0+dfsg1-1~bionic).\n",
            "sumo-doc is already the newest version (1.10.0+dfsg1-1~bionic).\n",
            "sumo-tools is already the newest version (1.10.0+dfsg1-1~bionic).\n",
            "0 upgraded, 0 newly installed, 0 to remove and 63 not upgraded.\n",
            "Requirement already satisfied: traci in /usr/local/lib/python3.7/dist-packages (1.10.0)\n",
            "Requirement already satisfied: sumolib>=1.10.0 in /usr/local/lib/python3.7/dist-packages (from traci) (1.10.0)\n"
          ]
        }
      ]
    },
    {
      "cell_type": "code",
      "metadata": {
        "colab": {
          "base_uri": "https://localhost:8080/"
        },
        "id": "hkSSxrRavG1I",
        "outputId": "8eacc963-99fb-4609-a15f-a1dcc252f22b"
      },
      "source": [
        "!python training_main.py"
      ],
      "execution_count": 8,
      "outputs": [
        {
          "output_type": "stream",
          "name": "stdout",
          "text": [
            "2021-10-20 08:06:14.402988: E tensorflow/stream_executor/cuda/cuda_driver.cc:271] failed call to cuInit: CUDA_ERROR_NO_DEVICE: no CUDA-capable device is detected\n",
            "/usr/local/lib/python3.7/dist-packages/keras/optimizer_v2/optimizer_v2.py:356: UserWarning: The `lr` argument is deprecated, use `learning_rate` instead.\n",
            "  \"The `lr` argument is deprecated, use `learning_rate` instead.\")\n",
            "\n",
            "----- Episode 1 of 10\n",
            " Retrying in 1 seconds\n",
            "Loading configuration ... done.\n",
            "Simulating...\n",
            "Total reward: -172120.0 - Epsilon: 1.0\n",
            "Training...\n",
            "Simulation time: 21.2 s - Training time: 0.0 s - Total: 21.2 s\n",
            "\n",
            "----- Episode 2 of 10\n",
            " Retrying in 1 seconds\n",
            "Loading configuration ... done.\n",
            "Simulating...\n",
            "Total reward: -209745.0 - Epsilon: 0.9\n",
            "Training...\n",
            "Simulation time: 33.6 s - Training time: 1297.8 s - Total: 1331.4 s\n",
            "\n",
            "----- Episode 3 of 10\n",
            " Retrying in 1 seconds\n",
            "Loading configuration ... done.\n",
            "Simulating...\n",
            "Total reward: -156884.0 - Epsilon: 0.8\n",
            "Training...\n",
            "Simulation time: 65.1 s - Training time: 1399.0 s - Total: 1464.1 s\n",
            "\n",
            "----- Episode 4 of 10\n",
            " Retrying in 1 seconds\n",
            "Loading configuration ... done.\n",
            "Simulating...\n",
            "Total reward: -324214.0 - Epsilon: 0.7\n",
            "Training...\n",
            "Simulation time: 56.0 s - Training time: 1176.7 s - Total: 1232.7 s\n",
            "\n",
            "----- Episode 5 of 10\n",
            " Retrying in 1 seconds\n",
            "Loading configuration ... done.\n",
            "Simulating...\n",
            "Total reward: -264781.0 - Epsilon: 0.6\n",
            "Training...\n",
            "Simulation time: 62.5 s - Training time: 1202.4 s - Total: 1264.9 s\n",
            "\n",
            "----- Episode 6 of 10\n",
            " Retrying in 1 seconds\n",
            "Loading configuration ... done.\n",
            "Simulating...\n",
            "Total reward: -593717.0 - Epsilon: 0.5\n",
            "Training...\n",
            "Simulation time: 88.1 s - Training time: 1185.5 s - Total: 1273.6 s\n",
            "\n",
            "----- Episode 7 of 10\n",
            " Retrying in 1 seconds\n",
            "Loading configuration ... done.\n",
            "Simulating...\n",
            "Total reward: -579906.0 - Epsilon: 0.4\n",
            "Training...\n",
            "Simulation time: 88.6 s - Training time: 1190.8 s - Total: 1279.4 s\n",
            "\n",
            "----- Episode 8 of 10\n",
            " Retrying in 1 seconds\n",
            "Loading configuration ... done.\n",
            "Simulating...\n",
            "Total reward: -1077438.0 - Epsilon: 0.3\n",
            "Training...\n",
            "Simulation time: 134.8 s - Training time: 1228.4 s - Total: 1363.2 s\n",
            "\n",
            "----- Episode 9 of 10\n",
            " Retrying in 1 seconds\n",
            "Loading configuration ... done.\n",
            "Simulating...\n",
            "Total reward: -2051882.0 - Epsilon: 0.2\n",
            "Training...\n",
            "Simulation time: 187.3 s - Training time: 1259.5 s - Total: 1446.8 s\n",
            "\n",
            "----- Episode 10 of 10\n",
            " Retrying in 1 seconds\n",
            "Loading configuration ... done.\n",
            "Simulating...\n",
            "Total reward: -2291374.0 - Epsilon: 0.1\n",
            "Training...\n",
            "Simulation time: 200.1 s - Training time: 1181.5 s - Total: 1381.6 s\n",
            "\n",
            "----- Start time: 2021-10-20 08:06:14.704983\n",
            "----- End time: 2021-10-20 11:27:13.677089\n",
            "----- Session info saved at: /content/models/model_1/\n"
          ]
        }
      ]
    }
  ]
}